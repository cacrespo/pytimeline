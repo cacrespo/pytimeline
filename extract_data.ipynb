{
 "cells": [
  {
   "cell_type": "code",
   "execution_count": 1,
   "id": "incorrect-effect",
   "metadata": {},
   "outputs": [],
   "source": [
    "from urllib.request import urlopen\n",
    "import pickle\n",
    "import re\n",
    "\n",
    "from bs4 import BeautifulSoup\n",
    "\n",
    "# %pip install fsspec --user"
   ]
  },
  {
   "cell_type": "code",
   "execution_count": 2,
   "id": "finite-positive",
   "metadata": {},
   "outputs": [],
   "source": [
    "# download data\n",
    "\n",
    "url = \"https://es.wikipedia.org/wiki/Portal:Argentina/Efem%C3%A9rides\"\n",
    "\n",
    "html = urlopen(url).read()\n",
    "soup = BeautifulSoup(html, features=\"html.parser\")\n",
    "\n",
    "# kill all script and style elements\n",
    "for script in soup([\"script\", \"style\"]):\n",
    "    script.extract()    # rip it out\n",
    "\n",
    "# get text\n",
    "text = soup.get_text()\n",
    "\n",
    "# break into lines and remove leading and trailing space on each\n",
    "lines = (line.strip() for line in text.splitlines())\n",
    "# break multi-headlines into a line each\n",
    "chunks = (phrase.strip() for line in lines for phrase in line.split(\"  \"))\n",
    "# drop blank lines\n",
    "text = '\\n'.join(chunk for chunk in chunks if chunk)"
   ]
  },
  {
   "cell_type": "code",
   "execution_count": 3,
   "id": "built-slovak",
   "metadata": {},
   "outputs": [],
   "source": [
    "# create Dict wiht events\n",
    "data = {}\n",
    "\n",
    "# regex para identificar filas con información\n",
    "p = re.compile(\"[1][7-9][0-9][0-9] – \")\n",
    "\n",
    "def clean_info(value):\n",
    "    a = value[0:7]\n",
    "    if p.match(a) is not None:\n",
    "        return value\n",
    "\n",
    "index = 0\n",
    "for row, line in enumerate(text.split('\\n')):\n",
    "    a = line[0:7]\n",
    "    if p.match(a) is not None:\n",
    "        data[index] = [line[0:4], line[7:]]\n",
    "        index += 1\n",
    "\n",
    "# Save to file\n",
    "with open('saved_dictionary.pkl', 'wb') as f:\n",
    "    pickle.dump(data, f)\n",
    "        \n",
    "#with open('saved_dictionary.pkl', 'rb') as f:\n",
    "#    data = pickle.load(f)"
   ]
  }
 ],
 "metadata": {
  "kernelspec": {
   "display_name": "Python 3",
   "language": "python",
   "name": "python3"
  },
  "language_info": {
   "codemirror_mode": {
    "name": "ipython",
    "version": 3
   },
   "file_extension": ".py",
   "mimetype": "text/x-python",
   "name": "python",
   "nbconvert_exporter": "python",
   "pygments_lexer": "ipython3",
   "version": "3.9.7"
  }
 },
 "nbformat": 4,
 "nbformat_minor": 5
}
