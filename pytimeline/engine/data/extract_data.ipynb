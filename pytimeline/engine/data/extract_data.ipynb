{
 "cells": [
  {
   "cell_type": "code",
   "execution_count": null,
   "id": "incorrect-effect",
   "metadata": {},
   "outputs": [],
   "source": [
    "from urllib.request import urlopen\n",
    "import pickle\n",
    "import re\n",
    "\n",
    "from bs4 import BeautifulSoup\n",
    "\n",
    "# %pip install fsspec --user"
   ]
  },
  {
   "cell_type": "code",
   "execution_count": null,
   "id": "finite-positive",
   "metadata": {},
   "outputs": [],
   "source": [
    "# download data\n",
    "\n",
    "url = \"https://es.wikipedia.org/wiki/Portal:Argentina/Efem%C3%A9rides\"\n",
    "\n",
    "html = urlopen(url).read()\n",
    "soup = BeautifulSoup(html, features=\"html.parser\")\n",
    "\n",
    "# kill all script and style elements\n",
    "for script in soup([\"script\", \"style\"]):\n",
    "    script.extract()    # rip it out\n",
    "\n",
    "# get text\n",
    "text = soup.get_text()\n",
    "\n",
    "# break into lines and remove leading and trailing space on each\n",
    "lines = (line.strip() for line in text.splitlines())\n",
    "# break multi-headlines into a line each\n",
    "chunks = (phrase.strip() for line in lines for phrase in line.split(\"  \"))\n",
    "# drop blank lines\n",
    "text = '\\n'.join(chunk for chunk in chunks if chunk)"
   ]
  },
  {
   "cell_type": "code",
   "execution_count": null,
   "id": "88edcc95",
   "metadata": {},
   "outputs": [],
   "source": [
    "from datetime import datetime\n",
    "\n",
    "def converter_date(text, year):\n",
    "    year = year\n",
    "\n",
    "    months = {\n",
    "        \"enero\": 1,\n",
    "        \"febrero\": 2,\n",
    "        \"marzo\": 3,\n",
    "        \"abril\": 4,\n",
    "        \"mayo\": 5,\n",
    "        \"junio\": 6,\n",
    "        \"julio\": 7,\n",
    "        \"agosto\": 8,\n",
    "        \"septiembre\": 9,\n",
    "        \"octubre\": 10,\n",
    "        \"noviembre\": 11,\n",
    "        \"diciembre\": 12\n",
    "    }\n",
    "\n",
    "    words = text.split()\n",
    "    day = int(words[0])\n",
    "    \n",
    "    try:\n",
    "        month = words[1].lower() \n",
    "\n",
    "        date_str = f\"{year}-{months[month]:02d}-{day:02d}\"\n",
    "\n",
    "        date = datetime.strptime(date_str, \"%Y-%m-%d\")\n",
    "    except:\n",
    "        pass\n",
    "\n",
    "\n",
    "    return date"
   ]
  },
  {
   "cell_type": "code",
   "execution_count": null,
   "id": "9ee35803",
   "metadata": {},
   "outputs": [],
   "source": [
    "# create Dict wiht events\n",
    "data = {}\n",
    "\n",
    "# regex para identificar filas con información\n",
    "p = re.compile(\"[1][7-9][0-9][0-9] – \")\n",
    "\n",
    "def clean_info(value):\n",
    "    a = value[0:7]\n",
    "    if p.match(a) is not None:\n",
    "        return value\n",
    "\n",
    "index = 0\n",
    "for row, line in enumerate(text.split('\\n')):\n",
    "    a = line[0:7]\n",
    "    if line[0:15] == 'Efemérides del ':\n",
    "        b = line[15:].replace(\" de \", \" \")\n",
    "    if p.match(a) is not None:\n",
    "        data[index] = [converter_date(b, line[0:4]), line[7:]]\n",
    "        index += 1"
   ]
  },
  {
   "cell_type": "code",
   "execution_count": null,
   "id": "built-slovak",
   "metadata": {},
   "outputs": [],
   "source": [
    "# Save to file\n",
    "with open('saved_dictionary.pkl', 'wb') as f:\n",
    "    pickle.dump(data, f)\n",
    "        \n",
    "#with open('saved_dictionary.pkl', 'rb') as f:\n",
    "#    data = pickle.load(f)"
   ]
  }
 ],
 "metadata": {
  "kernelspec": {
   "display_name": "Python 3 (ipykernel)",
   "language": "python",
   "name": "python3"
  },
  "language_info": {
   "codemirror_mode": {
    "name": "ipython",
    "version": 3
   },
   "file_extension": ".py",
   "mimetype": "text/x-python",
   "name": "python",
   "nbconvert_exporter": "python",
   "pygments_lexer": "ipython3",
   "version": "3.10.12"
  }
 },
 "nbformat": 4,
 "nbformat_minor": 5
}
